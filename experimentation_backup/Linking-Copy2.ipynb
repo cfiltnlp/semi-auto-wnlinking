{
 "cells": [
  {
   "cell_type": "code",
   "execution_count": 1,
   "metadata": {
    "collapsed": false
   },
   "outputs": [
    {
     "name": "stderr",
     "output_type": "stream",
     "text": [
      "/home/development/kevin/installations/anaconda3/lib/python3.5/site-packages/sklearn/utils/fixes.py:64: DeprecationWarning: inspect.getargspec() is deprecated, use inspect.signature() instead\n",
      "  if 'order' in inspect.getargspec(np.copy)[0]:\n"
     ]
    }
   ],
   "source": [
    "import os;\n",
    "import sys;\n",
    "import numpy as np;\n",
    "from sklearn.linear_model import LinearRegression;"
   ]
  },
  {
   "cell_type": "code",
   "execution_count": 2,
   "metadata": {
    "collapsed": false
   },
   "outputs": [],
   "source": [
    "def eng_read_sudha_format( fname):\n",
    "    model = dict();\n",
    "    f = open( fname, 'r');\n",
    "    lcnt = 0;\n",
    "    for line in f:\n",
    "        if lcnt == 0:\n",
    "            lcnt += 1;\n",
    "            continue;\n",
    "        tokens = line.strip().split( ' ');\n",
    "        key = tokens[ 0];\n",
    "        val = np.asarray( [ float( token) for token in tokens[ 1:]]);\n",
    "        word, pos, sid = key.split( '@');\n",
    "        if pos == 'noun':\n",
    "            pos = 'n';\n",
    "        if pos == 'adjective':\n",
    "            pos = 'a';\n",
    "        if pos == 'verb':\n",
    "            pos = 'v';\n",
    "        if pos == 'adverb':\n",
    "            pos = 'r';\n",
    "        mkey = sid + '_' + pos;\n",
    "        model[ mkey] = val;\n",
    "    return model;"
   ]
  },
  {
   "cell_type": "code",
   "execution_count": 3,
   "metadata": {
    "collapsed": true
   },
   "outputs": [],
   "source": [
    "def hin_read_sudha_format( fname):\n",
    "    model = dict();\n",
    "    f = open( fname, 'r');\n",
    "    lcnt = 0;\n",
    "    for line in f:\n",
    "        if lcnt == 0:\n",
    "            lcnt += 1;\n",
    "            continue;\n",
    "        tokens = line.strip().split( ' ');\n",
    "        key = tokens[ 0];\n",
    "        val = np.asarray( [ float( token) for token in tokens[ 1:]]);\n",
    "        word, sid = key.split( '@');\n",
    "        mkey = sid;\n",
    "        model[ mkey] = val;\n",
    "    return model;"
   ]
  },
  {
   "cell_type": "code",
   "execution_count": 4,
   "metadata": {
    "collapsed": false
   },
   "outputs": [],
   "source": [
    "fprefix = '/home/development/kevin/workspace/linking/data/';\n",
    "fname = fprefix + 'english-sense-vector_sb.txt';\n",
    "eng_m = eng_read_sudha_format( fname);"
   ]
  },
  {
   "cell_type": "code",
   "execution_count": 6,
   "metadata": {
    "collapsed": false
   },
   "outputs": [],
   "source": [
    "to_remove = [];\n",
    "for key in eng_m:\n",
    "    val = eng_m[ key];\n",
    "    if np.linalg.norm( val) < 1e-6:\n",
    "        to_remove.append( key);\n",
    "for elem in to_remove:\n",
    "    del eng_m[ elem];"
   ]
  },
  {
   "cell_type": "code",
   "execution_count": 7,
   "metadata": {
    "collapsed": false
   },
   "outputs": [
    {
     "name": "stdout",
     "output_type": "stream",
     "text": [
      "<class 'numpy.ndarray'>\n",
      "300\n",
      "(300,)\n"
     ]
    }
   ],
   "source": [
    "print( type( eng_m[ '2430830_n']));\n",
    "print( len( eng_m[ '2430830_n']));\n",
    "print( np.shape( eng_m[ '2430830_n']));\n"
   ]
  },
  {
   "cell_type": "code",
   "execution_count": 8,
   "metadata": {
    "collapsed": false
   },
   "outputs": [],
   "source": [
    "fname = fprefix + 'hindi-sense-vector_sb.txt';\n",
    "hin_m = hin_read_sudha_format( fname);"
   ]
  },
  {
   "cell_type": "code",
   "execution_count": 9,
   "metadata": {
    "collapsed": false
   },
   "outputs": [
    {
     "name": "stdout",
     "output_type": "stream",
     "text": [
      "<class 'numpy.ndarray'>\n",
      "200\n",
      "(200,)\n"
     ]
    }
   ],
   "source": [
    "print( type( hin_m[ '16074']));\n",
    "print( len( hin_m[ '16074']));\n",
    "print( np.shape( hin_m[ '16074']));"
   ]
  },
  {
   "cell_type": "code",
   "execution_count": 10,
   "metadata": {
    "collapsed": false
   },
   "outputs": [],
   "source": [
    "hlist = dict();\n",
    "elist = dict();\n",
    "link_list = [];\n",
    "fname = fprefix + 'links.csv';\n",
    "f = open( fname, 'r');\n",
    "mcnt = 0; # number of direct links which are mismatch in pos\n",
    "tcnt = 0;\n",
    "cnt_dict = dict();\n",
    "for line in f:\n",
    "    tokens = line.strip().split( ',');\n",
    "    if tokens[ 1] == 'ADJECTIVE':\n",
    "        p1 = 'a';\n",
    "    if tokens[ 1] == 'NOUN':\n",
    "        p1 = 'n';\n",
    "    if tokens[ 1] == 'VERB':\n",
    "        p1 = 'v';\n",
    "    if tokens[ 1] == 'ADVERB':\n",
    "        p1 == 'r';\n",
    "    if tokens[ 3] == 'ADJECTIVE':\n",
    "        p2 = 'a';\n",
    "    if tokens[ 3] == 'NOUN':\n",
    "        p2 = 'n';\n",
    "    if tokens[ 3] == 'VERB':\n",
    "        p2 = 'v';\n",
    "    if tokens[ 3] == 'ADVERB':\n",
    "        p2 == 'r';\n",
    "    k1 = tokens[ 0];\n",
    "    k2 = tokens[ 2] + '_' + p2;\n",
    "    if p1 != p2:\n",
    "        mcnt += 1;\n",
    "    else:\n",
    "        if p1 not in cnt_dict:\n",
    "            cnt_dict[ p1] = 0;\n",
    "        cnt_dict[ p1] += 1\n",
    "        link_list.append( ( k1, k2, p1));\n",
    "    tcnt += 1;"
   ]
  },
  {
   "cell_type": "code",
   "execution_count": 11,
   "metadata": {
    "collapsed": false
   },
   "outputs": [
    {
     "name": "stdout",
     "output_type": "stream",
     "text": [
      "11\n",
      "3602\n",
      "11709\n",
      "2003\n",
      "17325\n"
     ]
    }
   ],
   "source": [
    "print( mcnt);\n",
    "print( cnt_dict[ 'a']);\n",
    "print( cnt_dict[ 'n']);\n",
    "print( cnt_dict[ 'v']);\n",
    "print( tcnt);"
   ]
  },
  {
   "cell_type": "code",
   "execution_count": 12,
   "metadata": {
    "collapsed": false
   },
   "outputs": [
    {
     "name": "stdout",
     "output_type": "stream",
     "text": [
      "17314\n"
     ]
    }
   ],
   "source": [
    "print( len( link_list));"
   ]
  },
  {
   "cell_type": "code",
   "execution_count": 13,
   "metadata": {
    "collapsed": false
   },
   "outputs": [
    {
     "name": "stdout",
     "output_type": "stream",
     "text": [
      "8407\n"
     ]
    }
   ],
   "source": [
    "avail_list = [];\n",
    "for tup in link_list:\n",
    "    k1, k2, pos = tup;\n",
    "    if k1 not in hin_m:\n",
    "        continue;\n",
    "    if k2 not in eng_m:\n",
    "        continue;\n",
    "    avail_list.append( tup);\n",
    "print( len( avail_list));"
   ]
  },
  {
   "cell_type": "code",
   "execution_count": 14,
   "metadata": {
    "collapsed": true
   },
   "outputs": [],
   "source": [
    "def get_cosine_similarity( v1, v2):\n",
    "    num = 0.0;\n",
    "    den1 = 0.0;\n",
    "    den2 = 0.0;\n",
    "    for i in range( len( v1)):\n",
    "        num += ( v1[ i] * v2[ i]);\n",
    "        den1 += ( v1[ i] * v1[ i]);\n",
    "        den2 += ( v2[ i] * v2[ i]);\n",
    "    return num / (np.sqrt( den1) * np.sqrt( den2));"
   ]
  },
  {
   "cell_type": "code",
   "execution_count": 15,
   "metadata": {
    "collapsed": false
   },
   "outputs": [],
   "source": [
    "def h2e( train_list, test_list, bias_p = False):\n",
    "    evlist = [];\n",
    "    hvlist = [];\n",
    "    for tup in train_list:\n",
    "        k1, k2, pos = tup;\n",
    "        hvlist.append( hin_m[ k1]);\n",
    "        evlist.append( eng_m[ k2]);\n",
    "    h_data = np.array( hvlist, dtype = 'f4');\n",
    "    e_data = np.array( evlist, dtype = 'f4');\n",
    "    dim = len( e_data[ 0]);\n",
    "    print( dim);\n",
    "    dmodel_list = [];\n",
    "    print( 'Training', flush = True);\n",
    "    for i in range( dim):\n",
    "        print( 'Dim = ', i, flush = True);\n",
    "        X = h_data;\n",
    "        Y = e_data[ :, i];\n",
    "        cur_model = LinearRegression( fit_intercept = bias_p);\n",
    "        cur_model.fit( X, Y);\n",
    "        dmodel_list.append( cur_model);\n",
    "    evlist = [];\n",
    "    hvlist = [];\n",
    "    for tup in test_list:\n",
    "        k1, k2, pos = tup;\n",
    "        hvlist.append( hin_m[ k1]);\n",
    "        evlist.append( eng_m[ k2]);\n",
    "    inp_data = np.array( hvlist, dtype = 'f4');\n",
    "    \n",
    "    ypred = [];\n",
    "    print( 'Translating', flush = True);\n",
    "    for i in range( dim):\n",
    "        print( 'Dim = ', i, flush = True);\n",
    "        X = inp_data;\n",
    "        cur_model = dmodel_list[ i];\n",
    "        Yp = cur_model.predict( X);\n",
    "        ypred.append( Yp);\n",
    "    trans_syn_data = ypred[ 0];\n",
    "    for i in range( 1, dim):\n",
    "        trans_syn_data = np.column_stack( ( trans_syn_data, ypred[ i]));\n",
    "    print( np.shape( trans_syn_data));\n",
    "    return trans_syn_data;\n",
    "   "
   ]
  },
  {
   "cell_type": "code",
   "execution_count": 16,
   "metadata": {
    "collapsed": false,
    "scrolled": true
   },
   "outputs": [
    {
     "name": "stdout",
     "output_type": "stream",
     "text": [
      "300\n",
      "Training\n",
      "Dim =  0\n",
      "Dim =  1\n",
      "Dim =  2\n",
      "Dim =  3\n",
      "Dim =  4\n",
      "Dim =  5\n",
      "Dim =  6\n",
      "Dim =  7\n",
      "Dim =  8\n",
      "Dim =  9\n",
      "Dim =  10\n",
      "Dim =  11\n",
      "Dim =  12\n",
      "Dim =  13\n",
      "Dim =  14\n",
      "Dim =  15\n",
      "Dim =  16\n",
      "Dim =  17\n",
      "Dim =  18\n",
      "Dim =  19\n",
      "Dim =  20\n",
      "Dim =  21\n",
      "Dim =  22\n",
      "Dim =  23\n",
      "Dim =  24\n",
      "Dim =  25\n",
      "Dim =  26\n",
      "Dim =  27\n",
      "Dim =  28\n",
      "Dim =  29\n",
      "Dim =  30\n",
      "Dim =  31\n",
      "Dim =  32\n",
      "Dim =  33\n",
      "Dim =  34\n",
      "Dim =  35\n",
      "Dim =  36\n",
      "Dim =  37\n",
      "Dim =  38\n",
      "Dim =  39\n",
      "Dim =  40\n",
      "Dim =  41\n",
      "Dim =  42\n",
      "Dim =  43\n",
      "Dim =  44\n",
      "Dim =  45\n",
      "Dim =  46\n",
      "Dim =  47\n",
      "Dim =  48\n",
      "Dim =  49\n",
      "Dim =  50\n",
      "Dim =  51\n",
      "Dim =  52\n",
      "Dim =  53\n",
      "Dim =  54\n",
      "Dim =  55\n",
      "Dim =  56\n",
      "Dim =  57\n",
      "Dim =  58\n",
      "Dim =  59\n",
      "Dim =  60\n",
      "Dim =  61\n",
      "Dim =  62\n",
      "Dim =  63\n",
      "Dim =  64\n",
      "Dim =  65\n",
      "Dim =  66\n",
      "Dim =  67\n",
      "Dim =  68\n",
      "Dim =  69\n",
      "Dim =  70\n",
      "Dim =  71\n",
      "Dim =  72\n",
      "Dim =  73\n",
      "Dim =  74\n",
      "Dim =  75\n",
      "Dim =  76\n",
      "Dim =  77\n",
      "Dim =  78\n",
      "Dim =  79\n",
      "Dim =  80\n",
      "Dim =  81\n",
      "Dim =  82\n",
      "Dim =  83\n",
      "Dim =  84\n",
      "Dim =  85\n",
      "Dim =  86\n",
      "Dim =  87\n",
      "Dim =  88\n",
      "Dim =  89\n",
      "Dim =  90\n",
      "Dim =  91\n",
      "Dim =  92\n",
      "Dim =  93\n",
      "Dim =  94\n",
      "Dim =  95\n",
      "Dim =  96\n",
      "Dim =  97\n",
      "Dim =  98\n",
      "Dim =  99\n",
      "Dim =  100\n",
      "Dim =  101\n",
      "Dim =  102\n",
      "Dim =  103\n",
      "Dim =  104\n",
      "Dim =  105\n",
      "Dim =  106\n",
      "Dim =  107\n",
      "Dim =  108\n",
      "Dim =  109\n",
      "Dim =  110\n",
      "Dim =  111\n",
      "Dim =  112\n",
      "Dim =  113\n",
      "Dim =  114\n",
      "Dim =  115\n",
      "Dim =  116\n",
      "Dim =  117\n",
      "Dim =  118\n",
      "Dim =  119\n",
      "Dim =  120\n",
      "Dim =  121\n",
      "Dim =  122\n",
      "Dim =  123\n",
      "Dim =  124\n",
      "Dim =  125\n",
      "Dim =  126\n",
      "Dim =  127\n",
      "Dim =  128\n",
      "Dim =  129\n",
      "Dim =  130\n",
      "Dim =  131\n",
      "Dim =  132\n",
      "Dim =  133\n",
      "Dim =  134\n",
      "Dim =  135\n",
      "Dim =  136\n",
      "Dim =  137\n",
      "Dim =  138\n",
      "Dim =  139\n",
      "Dim =  140\n",
      "Dim =  141\n",
      "Dim =  142\n",
      "Dim =  143\n",
      "Dim =  144\n",
      "Dim =  145\n",
      "Dim =  146\n",
      "Dim =  147\n",
      "Dim =  148\n",
      "Dim =  149\n",
      "Dim =  150\n",
      "Dim =  151\n",
      "Dim =  152\n",
      "Dim =  153\n",
      "Dim =  154\n",
      "Dim =  155\n",
      "Dim =  156\n",
      "Dim =  157\n",
      "Dim =  158\n",
      "Dim =  159\n",
      "Dim =  160\n",
      "Dim =  161\n",
      "Dim =  162\n",
      "Dim =  163\n",
      "Dim =  164\n",
      "Dim =  165\n",
      "Dim =  166\n",
      "Dim =  167\n",
      "Dim =  168\n",
      "Dim =  169\n",
      "Dim =  170\n",
      "Dim =  171\n",
      "Dim =  172\n",
      "Dim =  173\n",
      "Dim =  174\n",
      "Dim =  175\n",
      "Dim =  176\n",
      "Dim =  177\n",
      "Dim =  178\n",
      "Dim =  179\n",
      "Dim =  180\n",
      "Dim =  181\n",
      "Dim =  182\n",
      "Dim =  183\n",
      "Dim =  184\n",
      "Dim =  185\n",
      "Dim =  186\n",
      "Dim =  187\n",
      "Dim =  188\n",
      "Dim =  189\n",
      "Dim =  190\n",
      "Dim =  191\n",
      "Dim =  192\n",
      "Dim =  193\n",
      "Dim =  194\n",
      "Dim =  195\n",
      "Dim =  196\n",
      "Dim =  197\n",
      "Dim =  198\n",
      "Dim =  199\n",
      "Dim =  200\n",
      "Dim =  201\n",
      "Dim =  202\n",
      "Dim =  203\n",
      "Dim =  204\n",
      "Dim =  205\n",
      "Dim =  206\n",
      "Dim =  207\n",
      "Dim =  208\n",
      "Dim =  209\n",
      "Dim =  210\n",
      "Dim =  211\n",
      "Dim =  212\n",
      "Dim =  213\n",
      "Dim =  214\n",
      "Dim =  215\n",
      "Dim =  216\n",
      "Dim =  217\n",
      "Dim =  218\n",
      "Dim =  219\n",
      "Dim =  220\n",
      "Dim =  221\n",
      "Dim =  222\n",
      "Dim =  223\n",
      "Dim =  224\n",
      "Dim =  225\n",
      "Dim =  226\n",
      "Dim =  227\n",
      "Dim =  228\n",
      "Dim =  229\n",
      "Dim =  230\n",
      "Dim =  231\n",
      "Dim =  232\n",
      "Dim =  233\n",
      "Dim =  234\n",
      "Dim =  235\n",
      "Dim =  236\n",
      "Dim =  237\n",
      "Dim =  238\n",
      "Dim =  239\n",
      "Dim =  240\n",
      "Dim =  241\n",
      "Dim =  242\n",
      "Dim =  243\n",
      "Dim =  244\n",
      "Dim =  245\n",
      "Dim =  246\n",
      "Dim =  247\n",
      "Dim =  248\n",
      "Dim =  249\n",
      "Dim =  250\n",
      "Dim =  251\n",
      "Dim =  252\n",
      "Dim =  253\n",
      "Dim =  254\n",
      "Dim =  255\n",
      "Dim =  256\n",
      "Dim =  257\n",
      "Dim =  258\n",
      "Dim =  259\n",
      "Dim =  260\n",
      "Dim =  261\n",
      "Dim =  262\n",
      "Dim =  263\n",
      "Dim =  264\n",
      "Dim =  265\n",
      "Dim =  266\n",
      "Dim =  267\n",
      "Dim =  268\n",
      "Dim =  269\n",
      "Dim =  270\n",
      "Dim =  271\n",
      "Dim =  272\n",
      "Dim =  273\n",
      "Dim =  274\n",
      "Dim =  275\n",
      "Dim =  276\n",
      "Dim =  277\n",
      "Dim =  278\n",
      "Dim =  279\n",
      "Dim =  280\n",
      "Dim =  281\n",
      "Dim =  282\n",
      "Dim =  283\n",
      "Dim =  284\n",
      "Dim =  285\n",
      "Dim =  286\n",
      "Dim =  287\n",
      "Dim =  288\n",
      "Dim =  289\n",
      "Dim =  290\n",
      "Dim =  291\n",
      "Dim =  292\n",
      "Dim =  293\n",
      "Dim =  294\n",
      "Dim =  295\n",
      "Dim =  296\n",
      "Dim =  297\n",
      "Dim =  298\n",
      "Dim =  299\n",
      "Translating\n",
      "Dim =  0\n",
      "Dim =  1\n",
      "Dim =  2\n",
      "Dim =  3\n",
      "Dim =  4\n",
      "Dim =  5\n",
      "Dim =  6\n",
      "Dim =  7\n",
      "Dim =  8\n",
      "Dim =  9\n",
      "Dim =  10\n",
      "Dim =  11\n",
      "Dim =  12\n",
      "Dim =  13\n",
      "Dim =  14\n",
      "Dim =  15\n",
      "Dim =  16\n",
      "Dim =  17\n",
      "Dim =  18\n",
      "Dim =  19\n",
      "Dim =  20\n",
      "Dim =  21\n",
      "Dim =  22\n",
      "Dim =  23\n",
      "Dim =  24\n",
      "Dim =  25\n",
      "Dim =  26\n",
      "Dim =  27\n",
      "Dim =  28\n",
      "Dim =  29\n",
      "Dim =  30\n",
      "Dim =  31\n",
      "Dim =  32\n",
      "Dim =  33\n",
      "Dim =  34\n",
      "Dim =  35\n",
      "Dim =  36\n",
      "Dim =  37\n",
      "Dim =  38\n",
      "Dim =  39\n",
      "Dim =  40\n",
      "Dim =  41\n",
      "Dim =  42\n",
      "Dim =  43\n",
      "Dim =  44\n",
      "Dim =  45\n",
      "Dim =  46\n",
      "Dim =  47\n",
      "Dim =  48\n",
      "Dim =  49\n",
      "Dim =  50\n",
      "Dim =  51\n",
      "Dim =  52\n",
      "Dim =  53\n",
      "Dim =  54\n",
      "Dim =  55\n",
      "Dim =  56\n",
      "Dim =  57\n",
      "Dim =  58\n",
      "Dim =  59\n",
      "Dim =  60\n",
      "Dim =  61\n",
      "Dim =  62\n",
      "Dim =  63\n",
      "Dim =  64\n",
      "Dim =  65\n",
      "Dim =  66\n",
      "Dim =  67\n",
      "Dim =  68\n",
      "Dim =  69\n",
      "Dim =  70\n",
      "Dim =  71\n",
      "Dim =  72\n",
      "Dim =  73\n",
      "Dim =  74\n",
      "Dim =  75\n",
      "Dim =  76\n",
      "Dim =  77\n",
      "Dim =  78\n",
      "Dim =  79\n",
      "Dim =  80\n",
      "Dim =  81\n",
      "Dim =  82\n",
      "Dim =  83\n",
      "Dim =  84\n",
      "Dim =  85\n",
      "Dim =  86\n",
      "Dim =  87\n",
      "Dim =  88\n",
      "Dim =  89\n",
      "Dim =  90\n",
      "Dim =  91\n",
      "Dim =  92\n",
      "Dim =  93\n",
      "Dim =  94\n",
      "Dim =  95\n",
      "Dim =  96\n",
      "Dim =  97\n",
      "Dim =  98\n",
      "Dim =  99\n",
      "Dim =  100\n",
      "Dim =  101\n",
      "Dim =  102\n",
      "Dim =  103\n",
      "Dim =  104\n",
      "Dim =  105\n",
      "Dim =  106\n",
      "Dim =  107\n",
      "Dim =  108\n",
      "Dim =  109\n",
      "Dim =  110\n",
      "Dim =  111\n",
      "Dim =  112\n",
      "Dim =  113\n",
      "Dim =  114\n",
      "Dim =  115\n",
      "Dim =  116\n",
      "Dim =  117\n",
      "Dim =  118\n",
      "Dim =  119\n",
      "Dim =  120\n",
      "Dim =  121\n",
      "Dim =  122\n",
      "Dim =  123\n",
      "Dim =  124\n",
      "Dim =  125\n",
      "Dim =  126\n",
      "Dim =  127\n",
      "Dim =  128\n",
      "Dim =  129\n",
      "Dim =  130\n",
      "Dim =  131\n",
      "Dim =  132\n",
      "Dim =  133\n",
      "Dim =  134\n",
      "Dim =  135\n",
      "Dim =  136\n",
      "Dim =  137\n",
      "Dim =  138\n",
      "Dim =  139\n",
      "Dim =  140\n",
      "Dim =  141\n",
      "Dim =  142\n",
      "Dim =  143\n",
      "Dim =  144\n",
      "Dim =  145\n",
      "Dim =  146\n",
      "Dim =  147\n",
      "Dim =  148\n",
      "Dim =  149\n",
      "Dim =  150\n",
      "Dim =  151\n",
      "Dim =  152\n",
      "Dim =  153\n",
      "Dim =  154\n",
      "Dim =  155\n",
      "Dim =  156\n",
      "Dim =  157\n",
      "Dim =  158\n",
      "Dim =  159\n",
      "Dim =  160\n",
      "Dim =  161\n",
      "Dim =  162\n",
      "Dim =  163\n",
      "Dim =  164\n",
      "Dim =  165\n",
      "Dim =  166\n",
      "Dim =  167\n",
      "Dim =  168\n",
      "Dim =  169\n",
      "Dim =  170\n",
      "Dim =  171\n",
      "Dim =  172\n",
      "Dim =  173\n",
      "Dim =  174\n",
      "Dim =  175\n",
      "Dim =  176\n",
      "Dim =  177\n",
      "Dim =  178\n",
      "Dim =  179\n",
      "Dim =  180\n",
      "Dim =  181\n",
      "Dim =  182\n",
      "Dim =  183\n",
      "Dim =  184\n",
      "Dim =  185\n",
      "Dim =  186\n",
      "Dim =  187\n",
      "Dim =  188\n",
      "Dim =  189\n",
      "Dim =  190\n",
      "Dim =  191\n",
      "Dim =  192\n",
      "Dim =  193\n",
      "Dim =  194\n",
      "Dim =  195\n",
      "Dim =  196\n",
      "Dim =  197\n",
      "Dim =  198\n",
      "Dim =  199\n",
      "Dim =  200\n",
      "Dim =  201\n",
      "Dim =  202\n",
      "Dim =  203\n",
      "Dim =  204\n",
      "Dim =  205\n",
      "Dim =  206\n",
      "Dim =  207\n",
      "Dim =  208\n",
      "Dim =  209\n",
      "Dim =  210\n",
      "Dim =  211\n",
      "Dim =  212\n",
      "Dim =  213\n",
      "Dim =  214\n",
      "Dim =  215\n",
      "Dim =  216\n",
      "Dim =  217\n",
      "Dim =  218\n",
      "Dim =  219\n",
      "Dim =  220\n",
      "Dim =  221\n",
      "Dim =  222\n",
      "Dim =  223\n",
      "Dim =  224\n",
      "Dim =  225\n",
      "Dim =  226\n",
      "Dim =  227\n",
      "Dim =  228\n",
      "Dim =  229\n",
      "Dim =  230\n",
      "Dim =  231\n",
      "Dim =  232\n",
      "Dim =  233\n",
      "Dim =  234\n",
      "Dim =  235\n",
      "Dim =  236\n",
      "Dim =  237\n",
      "Dim =  238\n",
      "Dim =  239\n",
      "Dim =  240\n",
      "Dim =  241\n",
      "Dim =  242\n",
      "Dim =  243\n",
      "Dim =  244\n",
      "Dim =  245\n",
      "Dim =  246\n",
      "Dim =  247\n",
      "Dim =  248\n",
      "Dim =  249\n",
      "Dim =  250\n",
      "Dim =  251\n",
      "Dim =  252\n",
      "Dim =  253\n",
      "Dim =  254\n",
      "Dim =  255\n",
      "Dim =  256\n",
      "Dim =  257\n",
      "Dim =  258\n",
      "Dim =  259\n",
      "Dim =  260\n",
      "Dim =  261\n",
      "Dim =  262\n",
      "Dim =  263\n",
      "Dim =  264\n",
      "Dim =  265\n",
      "Dim =  266\n",
      "Dim =  267\n",
      "Dim =  268\n",
      "Dim =  269\n",
      "Dim =  270\n",
      "Dim =  271\n",
      "Dim =  272\n",
      "Dim =  273\n",
      "Dim =  274\n",
      "Dim =  275\n",
      "Dim =  276\n",
      "Dim =  277\n",
      "Dim =  278\n",
      "Dim =  279\n",
      "Dim =  280\n",
      "Dim =  281\n",
      "Dim =  282\n",
      "Dim =  283\n",
      "Dim =  284\n",
      "Dim =  285\n",
      "Dim =  286\n",
      "Dim =  287\n",
      "Dim =  288\n",
      "Dim =  289\n",
      "Dim =  290\n",
      "Dim =  291\n",
      "Dim =  292\n",
      "Dim =  293\n",
      "Dim =  294\n",
      "Dim =  295\n",
      "Dim =  296\n",
      "Dim =  297\n",
      "Dim =  298\n",
      "Dim =  299\n",
      "(8407, 300)\n"
     ]
    }
   ],
   "source": [
    "#trans_syn_data = h2e( avail_list[ : 841 * 9], avail_list[ 841 * 9:]);\n",
    "#trans_syn_data = h2e( avail_list[ : 841 * 9], avail_list[ 841 * 9:], bias_p = True);\n",
    "trans_syn_data = h2e( avail_list, avail_list);"
   ]
  },
  {
   "cell_type": "code",
   "execution_count": 25,
   "metadata": {
    "collapsed": false,
    "scrolled": true
   },
   "outputs": [
    {
     "name": "stdout",
     "output_type": "stream",
     "text": [
      "Ranking\n",
      "(8407, 300)\n",
      "(48358, 300)\n",
      "(8407, 300)\n",
      "(8407, 300)\n",
      "(48358, 300)\n",
      "(48358, 300)\n"
     ]
    }
   ],
   "source": [
    "import pickle;\n",
    "\n",
    "print( 'Ranking', flush = True);\n",
    "\n",
    "test_list = avail_list;\n",
    "#test_list = avail_list[ 841 * 9:];\n",
    "\n",
    "\n",
    "print( np.shape( trans_syn_data));\n",
    "evlist = [];\n",
    "hvlist = [];\n",
    "ptr = 0;\n",
    "k2id = dict();\n",
    "for key in eng_m:\n",
    "    evlist.append( eng_m[ key]);\n",
    "    k2id[ key] = ptr;\n",
    "    ptr += 1;\n",
    "e_data = np.asarray( evlist, dtype = 'f4');\n",
    "print( np.shape( e_data));\n",
    "\n",
    "ntrans_syn_data = ( trans_syn_data.T / np.linalg.norm( trans_syn_data, axis = 1)).T;\n",
    "ne_data = ( e_data.T / np.linalg.norm( e_data, axis = 1)).T;\n",
    "print( np.shape( trans_syn_data));\n",
    "print( np.shape( ntrans_syn_data));\n",
    "print( np.shape( e_data));\n",
    "print( np.shape( ne_data));\n",
    "\n",
    "sim_mat = ntrans_syn_data.dot( ne_data.T);"
   ]
  },
  {
   "cell_type": "code",
   "execution_count": 18,
   "metadata": {
    "collapsed": false
   },
   "outputs": [
    {
     "name": "stdout",
     "output_type": "stream",
     "text": [
      "(8407, 48358)\n"
     ]
    }
   ],
   "source": [
    "print( np.shape( sim_mat));"
   ]
  },
  {
   "cell_type": "code",
   "execution_count": 19,
   "metadata": {
    "collapsed": true
   },
   "outputs": [],
   "source": [
    "r, c = np.shape( sim_mat);"
   ]
  },
  {
   "cell_type": "code",
   "execution_count": 20,
   "metadata": {
    "collapsed": true
   },
   "outputs": [],
   "source": [
    "trim_sim_mat = np.sort( sim_mat)[ :, ::-1]\n",
    "trim_ind_mat = np.argsort( sim_mat)[ :, ::-1]"
   ]
  },
  {
   "cell_type": "code",
   "execution_count": 21,
   "metadata": {
    "collapsed": false
   },
   "outputs": [
    {
     "name": "stdout",
     "output_type": "stream",
     "text": [
      "(8407, 48358)\n",
      "(8407, 48358)\n"
     ]
    }
   ],
   "source": [
    "print( np.shape( trim_sim_mat));\n",
    "print( np.shape( trim_ind_mat));"
   ]
  },
  {
   "cell_type": "code",
   "execution_count": 22,
   "metadata": {
    "collapsed": false
   },
   "outputs": [],
   "source": [
    "indx = [];\n",
    "posl = [];\n",
    "for i in range( r):\n",
    "    true = test_list[ i][ 1];\n",
    "    pos = test_list[ i][ 2];\n",
    "    tlist = trim_ind_mat[ i].tolist();\n",
    "    tind = tlist.index( k2id[ true]);\n",
    "    indx.append( tind);\n",
    "    posl.append( pos);"
   ]
  },
  {
   "cell_type": "code",
   "execution_count": 23,
   "metadata": {
    "collapsed": false
   },
   "outputs": [],
   "source": [
    "acc_01 = sum( [ elem < 1 for elem in indx]);\n",
    "acc_03 = sum( [ elem < 3 for elem in indx]);\n",
    "acc_05 = sum( [ elem < 5 for elem in indx]);\n",
    "acc_08 = sum( [ elem < 8 for elem in indx]);\n",
    "acc_10 = sum( [ elem < 10 for elem in indx]);\n",
    "acc_20 = sum( [ elem < 20 for elem in indx]);\n",
    "acc_50 = sum( [ elem < 50 for elem in indx]);\n",
    "acc_100 = sum( [ elem < 100 for elem in indx]);"
   ]
  },
  {
   "cell_type": "code",
   "execution_count": 24,
   "metadata": {
    "collapsed": false
   },
   "outputs": [
    {
     "name": "stdout",
     "output_type": "stream",
     "text": [
      "0.09892984542211652\n",
      "0.19357907253269918\n",
      "0.24007134363852556\n",
      "0.28478002378121287\n",
      "0.30535077288941737\n",
      "0.36159334126040427\n",
      "0.4334126040428062\n",
      "0.49227110582639716\n",
      "0 48238 8407\n"
     ]
    }
   ],
   "source": [
    "print( acc_01 / 8410);\n",
    "print( acc_03 / 8410);\n",
    "print( acc_05 / 8410);\n",
    "print( acc_08 / 8410);\n",
    "print( acc_10 / 8410);\n",
    "print( acc_20 / 8410);\n",
    "print( acc_50 / 8410);\n",
    "print( acc_100 / 8410);\n",
    "print( min( indx), max( indx), len( indx));"
   ]
  },
  {
   "cell_type": "code",
   "execution_count": 159,
   "metadata": {
    "collapsed": false
   },
   "outputs": [
    {
     "name": "stdout",
     "output_type": "stream",
     "text": [
      "[('33093', '14377617_n', 'n'), ('33140', '9862345_n', 'n'), ('33154', '2964634_n', 'n'), ('33269', '839778_n', 'n'), ('33273', '331102_n', 'n'), ('33508', '3956157_n', 'n'), ('33550', '13667643_n', 'n'), ('33595', '14941407_n', 'n'), ('33664', '11502102_n', 'n'), ('33684', '1067070_n', 'n')]\n",
      "[[46331 18950 20428 ..., 43673 38788 36346]\n",
      " [48396 16127 16136 ..., 32260 32259     0]\n",
      " [48396 16127 16136 ..., 32260 32259     0]\n",
      " ..., \n",
      " [48396 16127 16136 ..., 32260 32259     0]\n",
      " [48396 16127 16136 ..., 32260 32259     0]\n",
      " [19661 16982 21814 ..., 13461 12002 22947]]\n"
     ]
    }
   ],
   "source": [
    "print( test_list[ : 10]);\n",
    "print( trim_ind_mat[ : 10]);"
   ]
  },
  {
   "cell_type": "code",
   "execution_count": 148,
   "metadata": {
    "collapsed": false
   },
   "outputs": [
    {
     "name": "stdout",
     "output_type": "stream",
     "text": [
      "[[3 2 1]\n",
      " [3 2 1]\n",
      " [3 2 1]]\n",
      "[[1 2 0]\n",
      " [1 0 2]\n",
      " [0 1 2]]\n"
     ]
    }
   ],
   "source": [
    "print( np.sort( tp)[ :, ::-1]);\n",
    "print( np.argsort( tp)[ :, ::-1]);"
   ]
  },
  {
   "cell_type": "code",
   "execution_count": 147,
   "metadata": {
    "collapsed": false
   },
   "outputs": [
    {
     "name": "stdout",
     "output_type": "stream",
     "text": [
      "[[3 2 1]\n",
      " [3 2 1]\n",
      " [3 2 1]]\n"
     ]
    }
   ],
   "source": [
    "x = np.sort( tp)[ :,:: -1];\n",
    "print( x) ;"
   ]
  },
  {
   "cell_type": "code",
   "execution_count": 19,
   "metadata": {
    "collapsed": false
   },
   "outputs": [
    {
     "name": "stdout",
     "output_type": "stream",
     "text": [
      "39\n"
     ]
    }
   ],
   "source": [
    "zecnt = 0;\n",
    "for key in eng_m:\n",
    "    val = eng_m[ key];\n",
    "    if np.linalg.norm( val) < 1e-6:\n",
    "        zecnt += 1;\n",
    "print( zecnt);"
   ]
  },
  {
   "cell_type": "code",
   "execution_count": 22,
   "metadata": {
    "collapsed": false
   },
   "outputs": [
    {
     "name": "stdout",
     "output_type": "stream",
     "text": [
      "0\n"
     ]
    }
   ],
   "source": [
    "zhcnt = 0;\n",
    "for key in hin_m:\n",
    "    val = hin_m[ key];\n",
    "    if np.linalg.norm( val) < 1e-15:\n",
    "        zhcnt += 1;\n",
    "print( zhcnt);"
   ]
  },
  {
   "cell_type": "code",
   "execution_count": null,
   "metadata": {
    "collapsed": true
   },
   "outputs": [],
   "source": []
  }
 ],
 "metadata": {
  "kernelspec": {
   "display_name": "Python 3",
   "language": "python",
   "name": "python3"
  },
  "language_info": {
   "codemirror_mode": {
    "name": "ipython",
    "version": 3
   },
   "file_extension": ".py",
   "mimetype": "text/x-python",
   "name": "python",
   "nbconvert_exporter": "python",
   "pygments_lexer": "ipython3",
   "version": "3.5.1"
  }
 },
 "nbformat": 4,
 "nbformat_minor": 0
}
