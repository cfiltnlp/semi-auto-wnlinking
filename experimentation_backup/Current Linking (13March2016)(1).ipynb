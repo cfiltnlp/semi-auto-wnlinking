{
 "cells": [
  {
   "cell_type": "code",
   "execution_count": 75,
   "metadata": {
    "collapsed": false
   },
   "outputs": [],
   "source": [
    "import os;\n",
    "import sys;\n",
    "import numpy as np;\n",
    "from sklearn.linear_model import LinearRegression;\n",
    "from sklearn.linear_model import ElasticNet;\n",
    "from sklearn.linear_model import Lasso;"
   ]
  },
  {
   "cell_type": "code",
   "execution_count": 2,
   "metadata": {
    "collapsed": true
   },
   "outputs": [],
   "source": [
    "def read_sudha_format( fname):\n",
    "    model = dict();\n",
    "    f = open( fname, 'r');\n",
    "    lcnt = 0;\n",
    "    for line in f:\n",
    "        if lcnt == 0:\n",
    "            lcnt += 1;\n",
    "            continue;\n",
    "        tokens = line.strip().split( ' ');\n",
    "        key = tokens[ 0];\n",
    "        val = np.asarray( [ float( token) for token in tokens[ 1:]]);\n",
    "        word, pos, sid = key.split( '@');\n",
    "        if pos == 'noun':\n",
    "            pos = 'n';\n",
    "        if pos == 'adjective' or pos == 'adj':\n",
    "            pos = 'a';\n",
    "        if pos == 'verb':\n",
    "            pos = 'v';\n",
    "        if pos == 'adverb' or pos == 'adv':\n",
    "            pos = 'r';\n",
    "        mkey = sid + '_' + pos;\n",
    "        model[ mkey] = val;\n",
    "    return model;"
   ]
  },
  {
   "cell_type": "code",
   "execution_count": 3,
   "metadata": {
    "collapsed": true
   },
   "outputs": [],
   "source": [
    "fprefix = '/home/development/kevin/workspace/linking/data/';\n",
    "fname = fprefix + 'english-sense-vector_sb.txt';\n",
    "eng_m = read_sudha_format( fname);"
   ]
  },
  {
   "cell_type": "code",
   "execution_count": 4,
   "metadata": {
    "collapsed": false
   },
   "outputs": [
    {
     "name": "stdout",
     "output_type": "stream",
     "text": [
      "48397\n"
     ]
    }
   ],
   "source": [
    "print( len( eng_m));"
   ]
  },
  {
   "cell_type": "code",
   "execution_count": 5,
   "metadata": {
    "collapsed": true
   },
   "outputs": [],
   "source": [
    "to_remove = [];\n",
    "for key in eng_m:\n",
    "    val = eng_m[ key];\n",
    "    if np.linalg.norm( val) < 1e-6:\n",
    "        to_remove.append( key);\n",
    "for elem in to_remove:\n",
    "    del eng_m[ elem];"
   ]
  },
  {
   "cell_type": "code",
   "execution_count": 6,
   "metadata": {
    "collapsed": false
   },
   "outputs": [
    {
     "name": "stdout",
     "output_type": "stream",
     "text": [
      "48358\n"
     ]
    }
   ],
   "source": [
    "print( len( eng_m));"
   ]
  },
  {
   "cell_type": "code",
   "execution_count": 7,
   "metadata": {
    "collapsed": false
   },
   "outputs": [],
   "source": [
    "fprefix = '/home/development/kevin/workspace/linking/data/';\n",
    "fname = fprefix + 'hindi_cbow_50_5_10_sense.txt';\n",
    "hin_m = read_sudha_format( fname);"
   ]
  },
  {
   "cell_type": "code",
   "execution_count": 8,
   "metadata": {
    "collapsed": false
   },
   "outputs": [
    {
     "name": "stdout",
     "output_type": "stream",
     "text": [
      "29884\n"
     ]
    }
   ],
   "source": [
    "print( len( hin_m));"
   ]
  },
  {
   "cell_type": "code",
   "execution_count": 9,
   "metadata": {
    "collapsed": true
   },
   "outputs": [],
   "source": [
    "to_remove = [];\n",
    "for key in hin_m:\n",
    "    val = hin_m[ key];\n",
    "    if np.linalg.norm( val) < 1e-6:\n",
    "        to_remove.append( key);\n",
    "for elem in to_remove:\n",
    "    del hin_m[ elem];"
   ]
  },
  {
   "cell_type": "code",
   "execution_count": 10,
   "metadata": {
    "collapsed": false
   },
   "outputs": [
    {
     "name": "stdout",
     "output_type": "stream",
     "text": [
      "29884\n"
     ]
    }
   ],
   "source": [
    "print( len( hin_m));"
   ]
  },
  {
   "cell_type": "code",
   "execution_count": 13,
   "metadata": {
    "collapsed": false
   },
   "outputs": [],
   "source": [
    "hin_dict = dict();\n",
    "eng_dict = dict();\n",
    "pos_list = [ 'a', 'n', 'r', 'v'];\n",
    "for pos in pos_list:\n",
    "    hin_dict[ pos] = dict();\n",
    "    eng_dict[ pos] = dict();"
   ]
  },
  {
   "cell_type": "code",
   "execution_count": 14,
   "metadata": {
    "collapsed": true
   },
   "outputs": [],
   "source": [
    "for key in hin_m:\n",
    "    if 'a' in key:\n",
    "        hin_dict[ 'a'][ key] = hin_m[ key];\n",
    "    if 'n' in key:\n",
    "        hin_dict[ 'n'][ key] = hin_m[ key];\n",
    "    if 'r' in key:\n",
    "        hin_dict[ 'r'][ key] = hin_m[ key];\n",
    "    if 'v' in key:\n",
    "        hin_dict[ 'v'][ key] = hin_m[ key];\n",
    "\n",
    "for key in eng_m:\n",
    "    if 'a' in key:\n",
    "        eng_dict[ 'a'][ key] = eng_m[ key];\n",
    "    if 'n' in key:\n",
    "        eng_dict[ 'n'][ key] = eng_m[ key];\n",
    "    if 'r' in key:\n",
    "        eng_dict[ 'r'][ key] = eng_m[ key];\n",
    "    if 'v' in key:\n",
    "        eng_dict[ 'v'][ key] = eng_m[ key];"
   ]
  },
  {
   "cell_type": "code",
   "execution_count": 17,
   "metadata": {
    "collapsed": true
   },
   "outputs": [],
   "source": [
    "def read_link_file( lfname):\n",
    "    f = open( lfname, 'r');\n",
    "    link_data = [];\n",
    "    for line in f:\n",
    "        tokens = line.strip().split('\\t');\n",
    "        link_data.append( ( tokens[ 0], tokens[ 2]));\n",
    "    f.close();\n",
    "    return link_data;"
   ]
  },
  {
   "cell_type": "code",
   "execution_count": 18,
   "metadata": {
    "collapsed": false
   },
   "outputs": [],
   "source": [
    "lfprefix = '/home/development/kevin/workspace/linking/data/links/';\n",
    "lfname = lfprefix + 'noun_direct.links';\n",
    "dn_link_list = read_link_file( lfname);"
   ]
  },
  {
   "cell_type": "code",
   "execution_count": 20,
   "metadata": {
    "collapsed": false
   },
   "outputs": [
    {
     "name": "stdout",
     "output_type": "stream",
     "text": [
      "11493\n"
     ]
    }
   ],
   "source": [
    "print( len( dn_link_list));"
   ]
  },
  {
   "cell_type": "code",
   "execution_count": 47,
   "metadata": {
    "collapsed": false
   },
   "outputs": [],
   "source": [
    "def filter_link_list( link_list, src_model, tgt_model, pos):\n",
    "    ret_list = [];\n",
    "    for tup in link_list:\n",
    "        src_id = tup[ 0];\n",
    "        tgt_id = tup[ 1];\n",
    "        src_str = str( src_id) + '_' + pos;\n",
    "        tgt_str = str( tgt_id) + '_' + pos;\n",
    "        if src_str in src_model and tgt_str in tgt_model:\n",
    "            ret_list.append( ( src_str, tgt_str));\n",
    "    return ret_list;"
   ]
  },
  {
   "cell_type": "code",
   "execution_count": 51,
   "metadata": {
    "collapsed": false
   },
   "outputs": [],
   "source": [
    "filtered_dn_link_list = filter_link_list( dn_link_list, hin_dict[ 'n'], eng_dict[ 'n'], 'n');"
   ]
  },
  {
   "cell_type": "code",
   "execution_count": 52,
   "metadata": {
    "collapsed": false
   },
   "outputs": [
    {
     "name": "stdout",
     "output_type": "stream",
     "text": [
      "7063\n"
     ]
    }
   ],
   "source": [
    "print( len( filtered_dn_link_list));"
   ]
  },
  {
   "cell_type": "code",
   "execution_count": 73,
   "metadata": {
    "collapsed": false
   },
   "outputs": [],
   "source": [
    "def train_s2t( train_list, inp_m, out_m, pos = 'n', bias_p = False):\n",
    "    ivlist = [];\n",
    "    ovlist = [];\n",
    "    for tup in train_list:\n",
    "        k1, k2 = tup;\n",
    "        ivlist.append( inp_m[ k1]);\n",
    "        ovlist.append( out_m[ k2]);\n",
    "    i_data = np.asarray( ivlist, dtype = 'f8');\n",
    "    o_data = np.asarray( ovlist, dtype = 'f8');\n",
    "    dim = len( o_data[ 0]);\n",
    "    #print( dim);\n",
    "    dmodel_list = [];\n",
    "    print( 'Training', flush = True);\n",
    "    for i in range( dim):\n",
    "        #print( 'Dim = ', i, flush = True);\n",
    "        X = i_data;\n",
    "        Y = o_data[ :, i];\n",
    "        #cur_model = LinearRegression( fit_intercept = bias_p);\n",
    "        cur_model = ElasticNet( alpha = 0.01, l1_ratio = 0.7);\n",
    "        #cur_model = Lasso( alpha = 0.001);\n",
    "        cur_model.fit( X, Y);\n",
    "        dmodel_list.append( cur_model);\n",
    "    return dmodel_list;"
   ]
  },
  {
   "cell_type": "code",
   "execution_count": 67,
   "metadata": {
    "collapsed": false
   },
   "outputs": [],
   "source": [
    "def apply_model( model_list, test_list, inp_m, out_m, pos = 'n'):\n",
    "    ivlist = [];\n",
    "    ovlist = [];\n",
    "    for tup in test_list:\n",
    "        k1, k2 = tup;\n",
    "        ivlist.append( inp_m[ k1]);\n",
    "        ovlist.append( out_m[ k2]);\n",
    "    i_data = np.array( ivlist, dtype = 'f8');\n",
    "    dim = len( ovlist[ 0]);\n",
    "    ypred = [];\n",
    "    print( 'Translating', flush = True);\n",
    "    for i in range( dim):\n",
    "        #print( 'Dim = ', i, flush = True);\n",
    "        X = i_data;\n",
    "        cur_model = model_list[ i];\n",
    "        Yp = cur_model.predict( X);\n",
    "        ypred.append( Yp);\n",
    "    pred_data = ypred[ 0];\n",
    "    for i in range( 1, dim):\n",
    "        pred_data = np.column_stack( ( pred_data, ypred[ i]));\n",
    "    #print( np.shape( pred_data));\n",
    "    return pred_data;"
   ]
  },
  {
   "cell_type": "code",
   "execution_count": 68,
   "metadata": {
    "collapsed": true
   },
   "outputs": [],
   "source": [
    "def get_acc( test_list, inp_m, out_m, pred_data, pos = 'n'):\n",
    "    print( 'Sim Scoring', flush = True);\n",
    "    ivlist = [];\n",
    "    ovlist = [];\n",
    "    ptr = 0;\n",
    "    k2id = dict();\n",
    "    id2k = dict();\n",
    "    for key in out_m:\n",
    "        ovlist.append( out_m[ key]);\n",
    "        k2id[ key] = ptr;\n",
    "        id2k[ ptr] = key;\n",
    "        ptr += 1;\n",
    "    o_data = np.asarray( ovlist, dtype = 'f8');\n",
    "    no_data = ( o_data.T / np.linalg.norm( o_data, axis = 1)).T;\n",
    "    npred_data = ( pred_data.T / np.linalg.norm( pred_data, axis = 1)).T;\n",
    "    sim_mat = npred_data.dot( no_data.T);\n",
    "    r, c = np.shape( sim_mat);\n",
    "    #trim_sim_mat = np.sort( sim_mat)[ :, ::-1];\n",
    "    trim_ind_mat = np.argsort( sim_mat)[ :, ::-1];\n",
    "    indx = [];\n",
    "    #posl = [];\n",
    "    print( 'Ranking', flush = True);\n",
    "    for i in range( r):\n",
    "        true = test_list[ i][ 1];\n",
    "        #pos = test_list[ i][ 2];\n",
    "        tlist = trim_ind_mat[ i].tolist();\n",
    "        tind = tlist.index( k2id[ true]);\n",
    "        indx.append( tind);\n",
    "        #posl.append( pos);\n",
    "    acc_01 = sum( [ elem < 1 for elem in indx]);\n",
    "    acc_03 = sum( [ elem < 3 for elem in indx]);\n",
    "    acc_05 = sum( [ elem < 5 for elem in indx]);\n",
    "    acc_08 = sum( [ elem < 8 for elem in indx]);\n",
    "    acc_10 = sum( [ elem < 10 for elem in indx]);\n",
    "    acc_20 = sum( [ elem < 20 for elem in indx]);\n",
    "    acc_50 = sum( [ elem < 50 for elem in indx]);\n",
    "    acc_100 = sum( [ elem < 100 for elem in indx]);\n",
    "    print( acc_01 / len( indx));\n",
    "    print( acc_03 / len( indx));\n",
    "    print( acc_05 / len( indx));\n",
    "    print( acc_08 / len( indx));\n",
    "    print( acc_10 / len( indx));\n",
    "    print( acc_20 / len( indx));\n",
    "    print( acc_50 / len( indx));\n",
    "    print( acc_100 / len( indx));\n",
    "    print( min( indx), max( indx), ptr);"
   ]
  },
  {
   "cell_type": "code",
   "execution_count": 39,
   "metadata": {
    "collapsed": true
   },
   "outputs": [],
   "source": [
    "def cross_validation( inp_m, out_m, link_list, pos = 'n', bias_p = False):\n",
    "    fold_beg = [ 0] * 10;\n",
    "    fold_end = [ 0] * 10;\n",
    "    for i in range( 1, 10):\n",
    "        fold_end[ i - 1] = (len( link_list) // 10) * i;\n",
    "        fold_beg[ i] = (len( link_list) // 10) * i;\n",
    "    fold_end[ 9] = len( link_list);\n",
    "    for fold_ptr in range( 10):\n",
    "        print( 'Running fold ', fold_ptr, flush = True);\n",
    "        train_list = [];\n",
    "        test_list = [];\n",
    "        for i in range( 10):\n",
    "            if i != fold_ptr:\n",
    "                train_list.extend( link_list[ fold_beg[ i] : fold_end[ i]]);\n",
    "            else:\n",
    "                test_list.extend( link_list[ fold_beg[ i] : fold_end[ i]]);\n",
    "        dmodel_list = train_s2t( train_list, inp_m, out_m, pos, bias_p);\n",
    "        pred_data = apply_model( dmodel_list, test_list, inp_m, out_m, pos);\n",
    "        get_acc( test_list, inp_m, out_m, pred_data, pos);"
   ]
  },
  {
   "cell_type": "code",
   "execution_count": 74,
   "metadata": {
    "collapsed": false
   },
   "outputs": [
    {
     "name": "stdout",
     "output_type": "stream",
     "text": [
      "Running fold  0\n",
      "Training\n",
      "Translating\n",
      "Sim Scoring\n",
      "Ranking\n",
      "0.0028328611898017\n",
      "0.00424929178470255\n",
      "0.007082152974504249\n",
      "0.0113314447592068\n",
      "0.012747875354107648\n",
      "0.018413597733711047\n",
      "0.04107648725212465\n",
      "0.06940509915014165\n",
      "0 27429 28056\n",
      "Running fold  1\n",
      "Training\n",
      "Translating\n",
      "Sim Scoring\n",
      "Ranking\n",
      "0.00141643059490085\n",
      "0.0028328611898017\n",
      "0.0028328611898017\n",
      "0.0028328611898017\n",
      "0.0056657223796034\n",
      "0.019830028328611898\n",
      "0.049575070821529746\n",
      "0.06232294617563739\n",
      "0 27976 28056\n",
      "Running fold  2\n",
      "Training\n",
      "Translating\n",
      "Sim Scoring\n",
      "Ranking\n",
      "0.0\n",
      "0.0\n",
      "0.00424929178470255\n",
      "0.0056657223796034\n",
      "0.0056657223796034\n",
      "0.007082152974504249\n",
      "0.0169971671388102\n",
      "0.026912181303116147\n",
      "3 27403 28056\n",
      "Running fold  3\n",
      "Training\n",
      "Translating\n",
      "Sim Scoring\n",
      "Ranking\n",
      "0.00141643059490085\n",
      "0.0028328611898017\n",
      "0.007082152974504249\n",
      "0.0084985835694051\n",
      "0.009915014164305949\n",
      "0.0113314447592068\n",
      "0.015580736543909348\n",
      "0.031161473087818695\n",
      "0 28050 28056\n",
      "Running fold  4\n",
      "Training\n",
      "Translating\n",
      "Sim Scoring\n",
      "Ranking\n",
      "0.0028328611898017\n",
      "0.0028328611898017\n",
      "0.00424929178470255\n",
      "0.00424929178470255\n",
      "0.00424929178470255\n",
      "0.0056657223796034\n",
      "0.018413597733711047\n",
      "0.031161473087818695\n",
      "0 27788 28056\n",
      "Running fold  5\n",
      "Training\n",
      "Translating\n",
      "Sim Scoring\n",
      "Ranking\n",
      "0.00141643059490085\n",
      "0.00141643059490085\n",
      "0.00424929178470255\n",
      "0.0056657223796034\n",
      "0.007082152974504249\n",
      "0.015580736543909348\n",
      "0.025495750708215296\n",
      "0.039660056657223795\n",
      "0 27745 28056\n",
      "Running fold  6\n",
      "Training\n",
      "Translating\n",
      "Sim Scoring\n",
      "Ranking\n",
      "0.00141643059490085\n",
      "0.00424929178470255\n",
      "0.009915014164305949\n",
      "0.012747875354107648\n",
      "0.014164305949008499\n",
      "0.018413597733711047\n",
      "0.032577903682719546\n",
      "0.06232294617563739\n",
      "0 27518 28056\n",
      "Running fold  7\n",
      "Training\n",
      "Translating\n",
      "Sim Scoring\n",
      "Ranking\n",
      "0.00141643059490085\n",
      "0.0028328611898017\n",
      "0.0028328611898017\n",
      "0.00424929178470255\n",
      "0.00424929178470255\n",
      "0.0113314447592068\n",
      "0.019830028328611898\n",
      "0.031161473087818695\n",
      "0 27955 28056\n",
      "Running fold  8\n",
      "Training\n",
      "Translating\n",
      "Sim Scoring\n",
      "Ranking\n",
      "0.00141643059490085\n",
      "0.0028328611898017\n",
      "0.0028328611898017\n",
      "0.0056657223796034\n",
      "0.007082152974504249\n",
      "0.0169971671388102\n",
      "0.032577903682719546\n",
      "0.05524079320113314\n",
      "0 27703 28056\n",
      "Running fold  9\n",
      "Training\n",
      "Translating\n",
      "Sim Scoring\n",
      "Ranking\n",
      "0.0028208744710860366\n",
      "0.005641748942172073\n",
      "0.005641748942172073\n",
      "0.00846262341325811\n",
      "0.009873060648801129\n",
      "0.015514809590973202\n",
      "0.03244005641748942\n",
      "0.045133991537376586\n",
      "0 27917 28056\n"
     ]
    }
   ],
   "source": [
    "p = 'n';\n",
    "cross_validation( hin_dict[ p], eng_dict[ p], filtered_dn_link_list, p, bias_p=True);"
   ]
  },
  {
   "cell_type": "code",
   "execution_count": 72,
   "metadata": {
    "collapsed": false,
    "scrolled": true
   },
   "outputs": [
    {
     "name": "stdout",
     "output_type": "stream",
     "text": [
      "Running fold  0\n",
      "Training\n",
      "Translating\n",
      "Sim Scoring\n",
      "Ranking\n",
      "0.026912181303116147\n",
      "0.049575070821529746\n",
      "0.0708215297450425\n",
      "0.10764872521246459\n",
      "0.11614730878186968\n",
      "0.1671388101983003\n",
      "0.2507082152974504\n",
      "0.32152974504249293\n",
      "0 25566 28056\n",
      "Running fold  1\n",
      "Training\n",
      "Translating\n",
      "Sim Scoring\n",
      "Ranking\n",
      "0.0339943342776204\n",
      "0.06373937677053824\n",
      "0.08073654390934844\n",
      "0.10056657223796034\n",
      "0.11614730878186968\n",
      "0.15722379603399433\n",
      "0.22946175637393768\n",
      "0.311614730878187\n",
      "0 25684 28056\n",
      "Running fold  2\n",
      "Training\n",
      "Translating\n",
      "Sim Scoring\n",
      "Ranking\n",
      "0.0113314447592068\n",
      "0.029745042492917848\n",
      "0.04107648725212465\n",
      "0.05807365439093484\n",
      "0.06373937677053824\n",
      "0.09348441926345609\n",
      "0.14305949008498584\n",
      "0.19688385269121814\n",
      "0 25909 28056\n",
      "Running fold  3\n",
      "Training\n"
     ]
    },
    {
     "ename": "KeyboardInterrupt",
     "evalue": "",
     "output_type": "error",
     "traceback": [
      "\u001b[1;31m---------------------------------------------------------------------------\u001b[0m",
      "\u001b[1;31mKeyboardInterrupt\u001b[0m                         Traceback (most recent call last)",
      "\u001b[1;32m<ipython-input-72-3b0ed54263f5>\u001b[0m in \u001b[0;36m<module>\u001b[1;34m()\u001b[0m\n\u001b[0;32m      1\u001b[0m \u001b[0mp\u001b[0m \u001b[1;33m=\u001b[0m \u001b[1;34m'n'\u001b[0m\u001b[1;33m;\u001b[0m\u001b[1;33m\u001b[0m\u001b[0m\n\u001b[1;32m----> 2\u001b[1;33m \u001b[0mcross_validation\u001b[0m\u001b[1;33m(\u001b[0m \u001b[0mhin_dict\u001b[0m\u001b[1;33m[\u001b[0m \u001b[0mp\u001b[0m\u001b[1;33m]\u001b[0m\u001b[1;33m,\u001b[0m \u001b[0meng_dict\u001b[0m\u001b[1;33m[\u001b[0m \u001b[0mp\u001b[0m\u001b[1;33m]\u001b[0m\u001b[1;33m,\u001b[0m \u001b[0mfiltered_dn_link_list\u001b[0m\u001b[1;33m,\u001b[0m \u001b[0mp\u001b[0m\u001b[1;33m,\u001b[0m \u001b[0mbias_p\u001b[0m\u001b[1;33m=\u001b[0m\u001b[1;32mTrue\u001b[0m\u001b[1;33m)\u001b[0m\u001b[1;33m;\u001b[0m\u001b[1;33m\u001b[0m\u001b[0m\n\u001b[0m",
      "\u001b[1;32m<ipython-input-39-c6758d782583>\u001b[0m in \u001b[0;36mcross_validation\u001b[1;34m(inp_m, out_m, link_list, pos, bias_p)\u001b[0m\n\u001b[0;32m     15\u001b[0m             \u001b[1;32melse\u001b[0m\u001b[1;33m:\u001b[0m\u001b[1;33m\u001b[0m\u001b[0m\n\u001b[0;32m     16\u001b[0m                 \u001b[0mtest_list\u001b[0m\u001b[1;33m.\u001b[0m\u001b[0mextend\u001b[0m\u001b[1;33m(\u001b[0m \u001b[0mlink_list\u001b[0m\u001b[1;33m[\u001b[0m \u001b[0mfold_beg\u001b[0m\u001b[1;33m[\u001b[0m \u001b[0mi\u001b[0m\u001b[1;33m]\u001b[0m \u001b[1;33m:\u001b[0m \u001b[0mfold_end\u001b[0m\u001b[1;33m[\u001b[0m \u001b[0mi\u001b[0m\u001b[1;33m]\u001b[0m\u001b[1;33m]\u001b[0m\u001b[1;33m)\u001b[0m\u001b[1;33m;\u001b[0m\u001b[1;33m\u001b[0m\u001b[0m\n\u001b[1;32m---> 17\u001b[1;33m         \u001b[0mdmodel_list\u001b[0m \u001b[1;33m=\u001b[0m \u001b[0mtrain_s2t\u001b[0m\u001b[1;33m(\u001b[0m \u001b[0mtrain_list\u001b[0m\u001b[1;33m,\u001b[0m \u001b[0minp_m\u001b[0m\u001b[1;33m,\u001b[0m \u001b[0mout_m\u001b[0m\u001b[1;33m,\u001b[0m \u001b[0mpos\u001b[0m\u001b[1;33m,\u001b[0m \u001b[0mbias_p\u001b[0m\u001b[1;33m)\u001b[0m\u001b[1;33m;\u001b[0m\u001b[1;33m\u001b[0m\u001b[0m\n\u001b[0m\u001b[0;32m     18\u001b[0m         \u001b[0mpred_data\u001b[0m \u001b[1;33m=\u001b[0m \u001b[0mapply_model\u001b[0m\u001b[1;33m(\u001b[0m \u001b[0mdmodel_list\u001b[0m\u001b[1;33m,\u001b[0m \u001b[0mtest_list\u001b[0m\u001b[1;33m,\u001b[0m \u001b[0minp_m\u001b[0m\u001b[1;33m,\u001b[0m \u001b[0mout_m\u001b[0m\u001b[1;33m,\u001b[0m \u001b[0mpos\u001b[0m\u001b[1;33m)\u001b[0m\u001b[1;33m;\u001b[0m\u001b[1;33m\u001b[0m\u001b[0m\n\u001b[0;32m     19\u001b[0m         \u001b[0mget_acc\u001b[0m\u001b[1;33m(\u001b[0m \u001b[0mtest_list\u001b[0m\u001b[1;33m,\u001b[0m \u001b[0minp_m\u001b[0m\u001b[1;33m,\u001b[0m \u001b[0mout_m\u001b[0m\u001b[1;33m,\u001b[0m \u001b[0mpred_data\u001b[0m\u001b[1;33m,\u001b[0m \u001b[0mpos\u001b[0m\u001b[1;33m)\u001b[0m\u001b[1;33m;\u001b[0m\u001b[1;33m\u001b[0m\u001b[0m\n",
      "\u001b[1;32m<ipython-input-71-3a440c1f8aea>\u001b[0m in \u001b[0;36mtrain_s2t\u001b[1;34m(train_list, inp_m, out_m, pos, bias_p)\u001b[0m\n\u001b[0;32m     19\u001b[0m         \u001b[1;31m#cur_model = ElasticNet( alpha = 0.1, l1_ratio = 0.7);\u001b[0m\u001b[1;33m\u001b[0m\u001b[1;33m\u001b[0m\u001b[0m\n\u001b[0;32m     20\u001b[0m         \u001b[0mcur_model\u001b[0m \u001b[1;33m=\u001b[0m \u001b[0mLasso\u001b[0m\u001b[1;33m(\u001b[0m \u001b[0malpha\u001b[0m \u001b[1;33m=\u001b[0m \u001b[1;36m0.001\u001b[0m\u001b[1;33m)\u001b[0m\u001b[1;33m;\u001b[0m\u001b[1;33m\u001b[0m\u001b[0m\n\u001b[1;32m---> 21\u001b[1;33m         \u001b[0mcur_model\u001b[0m\u001b[1;33m.\u001b[0m\u001b[0mfit\u001b[0m\u001b[1;33m(\u001b[0m \u001b[0mX\u001b[0m\u001b[1;33m,\u001b[0m \u001b[0mY\u001b[0m\u001b[1;33m)\u001b[0m\u001b[1;33m;\u001b[0m\u001b[1;33m\u001b[0m\u001b[0m\n\u001b[0m\u001b[0;32m     22\u001b[0m         \u001b[0mdmodel_list\u001b[0m\u001b[1;33m.\u001b[0m\u001b[0mappend\u001b[0m\u001b[1;33m(\u001b[0m \u001b[0mcur_model\u001b[0m\u001b[1;33m)\u001b[0m\u001b[1;33m;\u001b[0m\u001b[1;33m\u001b[0m\u001b[0m\n\u001b[0;32m     23\u001b[0m     \u001b[1;32mreturn\u001b[0m \u001b[0mdmodel_list\u001b[0m\u001b[1;33m;\u001b[0m\u001b[1;33m\u001b[0m\u001b[0m\n",
      "\u001b[1;32m/home/development/kevin/installations/anaconda3/lib/python3.5/site-packages/sklearn/linear_model/coordinate_descent.py\u001b[0m in \u001b[0;36mfit\u001b[1;34m(self, X, y)\u001b[0m\n\u001b[0;32m    628\u001b[0m         X, y = check_X_y(X, y, accept_sparse='csc', dtype=np.float64,\n\u001b[0;32m    629\u001b[0m                          \u001b[0morder\u001b[0m\u001b[1;33m=\u001b[0m\u001b[1;34m'F'\u001b[0m\u001b[1;33m,\u001b[0m \u001b[0mcopy\u001b[0m\u001b[1;33m=\u001b[0m\u001b[0mself\u001b[0m\u001b[1;33m.\u001b[0m\u001b[0mcopy_X\u001b[0m \u001b[1;32mand\u001b[0m \u001b[0mself\u001b[0m\u001b[1;33m.\u001b[0m\u001b[0mfit_intercept\u001b[0m\u001b[1;33m,\u001b[0m\u001b[1;33m\u001b[0m\u001b[0m\n\u001b[1;32m--> 630\u001b[1;33m                          multi_output=True, y_numeric=True)\n\u001b[0m\u001b[0;32m    631\u001b[0m \u001b[1;33m\u001b[0m\u001b[0m\n\u001b[0;32m    632\u001b[0m         \u001b[0mX\u001b[0m\u001b[1;33m,\u001b[0m \u001b[0my\u001b[0m\u001b[1;33m,\u001b[0m \u001b[0mX_mean\u001b[0m\u001b[1;33m,\u001b[0m \u001b[0my_mean\u001b[0m\u001b[1;33m,\u001b[0m \u001b[0mX_std\u001b[0m\u001b[1;33m,\u001b[0m \u001b[0mprecompute\u001b[0m\u001b[1;33m,\u001b[0m \u001b[0mXy\u001b[0m \u001b[1;33m=\u001b[0m\u001b[0;31m \u001b[0m\u001b[0;31m\\\u001b[0m\u001b[1;33m\u001b[0m\u001b[0m\n",
      "\u001b[1;32m/home/development/kevin/installations/anaconda3/lib/python3.5/site-packages/sklearn/utils/validation.py\u001b[0m in \u001b[0;36mcheck_X_y\u001b[1;34m(X, y, accept_sparse, dtype, order, copy, force_all_finite, ensure_2d, allow_nd, multi_output, ensure_min_samples, ensure_min_features, y_numeric)\u001b[0m\n\u001b[0;32m    442\u001b[0m     X = check_array(X, accept_sparse, dtype, order, copy, force_all_finite,\n\u001b[0;32m    443\u001b[0m                     \u001b[0mensure_2d\u001b[0m\u001b[1;33m,\u001b[0m \u001b[0mallow_nd\u001b[0m\u001b[1;33m,\u001b[0m \u001b[0mensure_min_samples\u001b[0m\u001b[1;33m,\u001b[0m\u001b[1;33m\u001b[0m\u001b[0m\n\u001b[1;32m--> 444\u001b[1;33m                     ensure_min_features)\n\u001b[0m\u001b[0;32m    445\u001b[0m     \u001b[1;32mif\u001b[0m \u001b[0mmulti_output\u001b[0m\u001b[1;33m:\u001b[0m\u001b[1;33m\u001b[0m\u001b[0m\n\u001b[0;32m    446\u001b[0m         y = check_array(y, 'csr', force_all_finite=True, ensure_2d=False,\n",
      "\u001b[1;32m/home/development/kevin/installations/anaconda3/lib/python3.5/site-packages/sklearn/utils/validation.py\u001b[0m in \u001b[0;36mcheck_array\u001b[1;34m(array, accept_sparse, dtype, order, copy, force_all_finite, ensure_2d, allow_nd, ensure_min_samples, ensure_min_features)\u001b[0m\n\u001b[0;32m    342\u001b[0m             \u001b[1;32melse\u001b[0m\u001b[1;33m:\u001b[0m\u001b[1;33m\u001b[0m\u001b[0m\n\u001b[0;32m    343\u001b[0m                 \u001b[0mdtype\u001b[0m \u001b[1;33m=\u001b[0m \u001b[1;32mNone\u001b[0m\u001b[1;33m\u001b[0m\u001b[0m\n\u001b[1;32m--> 344\u001b[1;33m         \u001b[0marray\u001b[0m \u001b[1;33m=\u001b[0m \u001b[0mnp\u001b[0m\u001b[1;33m.\u001b[0m\u001b[0marray\u001b[0m\u001b[1;33m(\u001b[0m\u001b[0marray\u001b[0m\u001b[1;33m,\u001b[0m \u001b[0mdtype\u001b[0m\u001b[1;33m=\u001b[0m\u001b[0mdtype\u001b[0m\u001b[1;33m,\u001b[0m \u001b[0morder\u001b[0m\u001b[1;33m=\u001b[0m\u001b[0morder\u001b[0m\u001b[1;33m,\u001b[0m \u001b[0mcopy\u001b[0m\u001b[1;33m=\u001b[0m\u001b[0mcopy\u001b[0m\u001b[1;33m)\u001b[0m\u001b[1;33m\u001b[0m\u001b[0m\n\u001b[0m\u001b[0;32m    345\u001b[0m         \u001b[1;31m# make sure we actually converted to numeric:\u001b[0m\u001b[1;33m\u001b[0m\u001b[1;33m\u001b[0m\u001b[0m\n\u001b[0;32m    346\u001b[0m         \u001b[1;32mif\u001b[0m \u001b[0mdtype_numeric\u001b[0m \u001b[1;32mand\u001b[0m \u001b[0marray\u001b[0m\u001b[1;33m.\u001b[0m\u001b[0mdtype\u001b[0m\u001b[1;33m.\u001b[0m\u001b[0mkind\u001b[0m \u001b[1;33m==\u001b[0m \u001b[1;34m\"O\"\u001b[0m\u001b[1;33m:\u001b[0m\u001b[1;33m\u001b[0m\u001b[0m\n",
      "\u001b[1;31mKeyboardInterrupt\u001b[0m: "
     ]
    }
   ],
   "source": [
    "p = 'n';\n",
    "cross_validation( hin_dict[ p], eng_dict[ p], filtered_dn_link_list, p, bias_p=True);"
   ]
  },
  {
   "cell_type": "code",
   "execution_count": 69,
   "metadata": {
    "collapsed": false
   },
   "outputs": [
    {
     "name": "stdout",
     "output_type": "stream",
     "text": [
      "Running fold  0\n",
      "Training\n",
      "Translating\n",
      "Sim Scoring\n",
      "Ranking\n",
      "0.0\n",
      "0.0\n",
      "0.0\n",
      "0.0\n",
      "0.0\n",
      "0.0\n",
      "0.0028328611898017\n",
      "0.0084985835694051\n",
      "26 28026 28056\n",
      "Running fold  1\n",
      "Training\n",
      "Translating\n",
      "Sim Scoring\n",
      "Ranking\n",
      "0.0\n",
      "0.0\n",
      "0.0\n",
      "0.0\n",
      "0.0\n",
      "0.0\n",
      "0.00424929178470255\n",
      "0.00424929178470255\n",
      "23 28044 28056\n",
      "Running fold  2\n",
      "Training\n",
      "Translating\n",
      "Sim Scoring\n",
      "Ranking\n",
      "0.0\n",
      "0.0\n",
      "0.00141643059490085\n",
      "0.00141643059490085\n",
      "0.00141643059490085\n",
      "0.00141643059490085\n",
      "0.00141643059490085\n",
      "0.0056657223796034\n",
      "4 27942 28056\n",
      "Running fold  3\n",
      "Training\n",
      "Translating\n",
      "Sim Scoring\n",
      "Ranking\n",
      "0.0\n",
      "0.0\n",
      "0.0\n",
      "0.0\n",
      "0.0\n",
      "0.0\n",
      "0.0028328611898017\n",
      "0.00424929178470255\n",
      "24 28048 28056\n",
      "Running fold  4\n",
      "Training\n",
      "Translating\n",
      "Sim Scoring\n",
      "Ranking\n",
      "0.0\n",
      "0.0\n",
      "0.0\n",
      "0.0\n",
      "0.0\n",
      "0.0\n",
      "0.0\n",
      "0.00141643059490085\n",
      "60 28012 28056\n",
      "Running fold  5\n",
      "Training\n"
     ]
    },
    {
     "ename": "KeyboardInterrupt",
     "evalue": "",
     "output_type": "error",
     "traceback": [
      "\u001b[1;31m---------------------------------------------------------------------------\u001b[0m",
      "\u001b[1;31mKeyboardInterrupt\u001b[0m                         Traceback (most recent call last)",
      "\u001b[1;32m<ipython-input-69-9ae71a388c4f>\u001b[0m in \u001b[0;36m<module>\u001b[1;34m()\u001b[0m\n\u001b[0;32m      1\u001b[0m \u001b[0mp\u001b[0m \u001b[1;33m=\u001b[0m \u001b[1;34m'n'\u001b[0m\u001b[1;33m;\u001b[0m\u001b[1;33m\u001b[0m\u001b[0m\n\u001b[1;32m----> 2\u001b[1;33m \u001b[0mcross_validation\u001b[0m\u001b[1;33m(\u001b[0m \u001b[0mhin_dict\u001b[0m\u001b[1;33m[\u001b[0m \u001b[0mp\u001b[0m\u001b[1;33m]\u001b[0m\u001b[1;33m,\u001b[0m \u001b[0meng_dict\u001b[0m\u001b[1;33m[\u001b[0m \u001b[0mp\u001b[0m\u001b[1;33m]\u001b[0m\u001b[1;33m,\u001b[0m \u001b[0mfiltered_dn_link_list\u001b[0m\u001b[1;33m,\u001b[0m \u001b[0mp\u001b[0m\u001b[1;33m)\u001b[0m\u001b[1;33m;\u001b[0m\u001b[1;33m\u001b[0m\u001b[0m\n\u001b[0m",
      "\u001b[1;32m<ipython-input-39-c6758d782583>\u001b[0m in \u001b[0;36mcross_validation\u001b[1;34m(inp_m, out_m, link_list, pos, bias_p)\u001b[0m\n\u001b[0;32m     15\u001b[0m             \u001b[1;32melse\u001b[0m\u001b[1;33m:\u001b[0m\u001b[1;33m\u001b[0m\u001b[0m\n\u001b[0;32m     16\u001b[0m                 \u001b[0mtest_list\u001b[0m\u001b[1;33m.\u001b[0m\u001b[0mextend\u001b[0m\u001b[1;33m(\u001b[0m \u001b[0mlink_list\u001b[0m\u001b[1;33m[\u001b[0m \u001b[0mfold_beg\u001b[0m\u001b[1;33m[\u001b[0m \u001b[0mi\u001b[0m\u001b[1;33m]\u001b[0m \u001b[1;33m:\u001b[0m \u001b[0mfold_end\u001b[0m\u001b[1;33m[\u001b[0m \u001b[0mi\u001b[0m\u001b[1;33m]\u001b[0m\u001b[1;33m]\u001b[0m\u001b[1;33m)\u001b[0m\u001b[1;33m;\u001b[0m\u001b[1;33m\u001b[0m\u001b[0m\n\u001b[1;32m---> 17\u001b[1;33m         \u001b[0mdmodel_list\u001b[0m \u001b[1;33m=\u001b[0m \u001b[0mtrain_s2t\u001b[0m\u001b[1;33m(\u001b[0m \u001b[0mtrain_list\u001b[0m\u001b[1;33m,\u001b[0m \u001b[0minp_m\u001b[0m\u001b[1;33m,\u001b[0m \u001b[0mout_m\u001b[0m\u001b[1;33m,\u001b[0m \u001b[0mpos\u001b[0m\u001b[1;33m,\u001b[0m \u001b[0mbias_p\u001b[0m\u001b[1;33m)\u001b[0m\u001b[1;33m;\u001b[0m\u001b[1;33m\u001b[0m\u001b[0m\n\u001b[0m\u001b[0;32m     18\u001b[0m         \u001b[0mpred_data\u001b[0m \u001b[1;33m=\u001b[0m \u001b[0mapply_model\u001b[0m\u001b[1;33m(\u001b[0m \u001b[0mdmodel_list\u001b[0m\u001b[1;33m,\u001b[0m \u001b[0mtest_list\u001b[0m\u001b[1;33m,\u001b[0m \u001b[0minp_m\u001b[0m\u001b[1;33m,\u001b[0m \u001b[0mout_m\u001b[0m\u001b[1;33m,\u001b[0m \u001b[0mpos\u001b[0m\u001b[1;33m)\u001b[0m\u001b[1;33m;\u001b[0m\u001b[1;33m\u001b[0m\u001b[0m\n\u001b[0;32m     19\u001b[0m         \u001b[0mget_acc\u001b[0m\u001b[1;33m(\u001b[0m \u001b[0mtest_list\u001b[0m\u001b[1;33m,\u001b[0m \u001b[0minp_m\u001b[0m\u001b[1;33m,\u001b[0m \u001b[0mout_m\u001b[0m\u001b[1;33m,\u001b[0m \u001b[0mpred_data\u001b[0m\u001b[1;33m,\u001b[0m \u001b[0mpos\u001b[0m\u001b[1;33m)\u001b[0m\u001b[1;33m;\u001b[0m\u001b[1;33m\u001b[0m\u001b[0m\n",
      "\u001b[1;32m<ipython-input-66-f92a818744b9>\u001b[0m in \u001b[0;36mtrain_s2t\u001b[1;34m(train_list, inp_m, out_m, pos, bias_p)\u001b[0m\n\u001b[0;32m     19\u001b[0m         \u001b[1;31m#cur_model = ElasticNet( alpha = 0.1, l1_ratio = 0.7);\u001b[0m\u001b[1;33m\u001b[0m\u001b[1;33m\u001b[0m\u001b[0m\n\u001b[0;32m     20\u001b[0m         \u001b[0mcur_model\u001b[0m \u001b[1;33m=\u001b[0m \u001b[0mLasso\u001b[0m\u001b[1;33m(\u001b[0m \u001b[0malpha\u001b[0m \u001b[1;33m=\u001b[0m \u001b[1;36m0.1\u001b[0m\u001b[1;33m)\u001b[0m\u001b[1;33m;\u001b[0m\u001b[1;33m\u001b[0m\u001b[0m\n\u001b[1;32m---> 21\u001b[1;33m         \u001b[0mcur_model\u001b[0m\u001b[1;33m.\u001b[0m\u001b[0mfit\u001b[0m\u001b[1;33m(\u001b[0m \u001b[0mX\u001b[0m\u001b[1;33m,\u001b[0m \u001b[0mY\u001b[0m\u001b[1;33m)\u001b[0m\u001b[1;33m;\u001b[0m\u001b[1;33m\u001b[0m\u001b[0m\n\u001b[0m\u001b[0;32m     22\u001b[0m         \u001b[0mdmodel_list\u001b[0m\u001b[1;33m.\u001b[0m\u001b[0mappend\u001b[0m\u001b[1;33m(\u001b[0m \u001b[0mcur_model\u001b[0m\u001b[1;33m)\u001b[0m\u001b[1;33m;\u001b[0m\u001b[1;33m\u001b[0m\u001b[0m\n\u001b[0;32m     23\u001b[0m     \u001b[1;32mreturn\u001b[0m \u001b[0mdmodel_list\u001b[0m\u001b[1;33m;\u001b[0m\u001b[1;33m\u001b[0m\u001b[0m\n",
      "\u001b[1;32m/home/development/kevin/installations/anaconda3/lib/python3.5/site-packages/sklearn/linear_model/coordinate_descent.py\u001b[0m in \u001b[0;36mfit\u001b[1;34m(self, X, y)\u001b[0m\n\u001b[0;32m    632\u001b[0m         \u001b[0mX\u001b[0m\u001b[1;33m,\u001b[0m \u001b[0my\u001b[0m\u001b[1;33m,\u001b[0m \u001b[0mX_mean\u001b[0m\u001b[1;33m,\u001b[0m \u001b[0my_mean\u001b[0m\u001b[1;33m,\u001b[0m \u001b[0mX_std\u001b[0m\u001b[1;33m,\u001b[0m \u001b[0mprecompute\u001b[0m\u001b[1;33m,\u001b[0m \u001b[0mXy\u001b[0m \u001b[1;33m=\u001b[0m\u001b[0;31m \u001b[0m\u001b[0;31m\\\u001b[0m\u001b[1;33m\u001b[0m\u001b[0m\n\u001b[0;32m    633\u001b[0m             _pre_fit(X, y, None, self.precompute, self.normalize,\n\u001b[1;32m--> 634\u001b[1;33m                      self.fit_intercept, copy=True)\n\u001b[0m\u001b[0;32m    635\u001b[0m \u001b[1;33m\u001b[0m\u001b[0m\n\u001b[0;32m    636\u001b[0m         \u001b[1;32mif\u001b[0m \u001b[0my\u001b[0m\u001b[1;33m.\u001b[0m\u001b[0mndim\u001b[0m \u001b[1;33m==\u001b[0m \u001b[1;36m1\u001b[0m\u001b[1;33m:\u001b[0m\u001b[1;33m\u001b[0m\u001b[0m\n",
      "\u001b[1;32m/home/development/kevin/installations/anaconda3/lib/python3.5/site-packages/sklearn/linear_model/base.py\u001b[0m in \u001b[0;36m_pre_fit\u001b[1;34m(X, y, Xy, precompute, normalize, fit_intercept, copy)\u001b[0m\n\u001b[0;32m    412\u001b[0m         \u001b[1;31m# copy was done in fit if necessary\u001b[0m\u001b[1;33m\u001b[0m\u001b[1;33m\u001b[0m\u001b[0m\n\u001b[0;32m    413\u001b[0m         X, y, X_mean, y_mean, X_std = center_data(\n\u001b[1;32m--> 414\u001b[1;33m             X, y, fit_intercept, normalize, copy=copy)\n\u001b[0m\u001b[0;32m    415\u001b[0m \u001b[1;33m\u001b[0m\u001b[0m\n\u001b[0;32m    416\u001b[0m     \u001b[1;32mif\u001b[0m \u001b[0mhasattr\u001b[0m\u001b[1;33m(\u001b[0m\u001b[0mprecompute\u001b[0m\u001b[1;33m,\u001b[0m \u001b[1;34m'__array__'\u001b[0m\u001b[1;33m)\u001b[0m\u001b[0;31m \u001b[0m\u001b[0;31m\\\u001b[0m\u001b[1;33m\u001b[0m\u001b[0m\n",
      "\u001b[1;32m/home/development/kevin/installations/anaconda3/lib/python3.5/site-packages/sklearn/linear_model/base.py\u001b[0m in \u001b[0;36mcenter_data\u001b[1;34m(X, y, fit_intercept, normalize, copy, sample_weight)\u001b[0m\n\u001b[0;32m     97\u001b[0m         \u001b[1;32melse\u001b[0m\u001b[1;33m:\u001b[0m\u001b[1;33m\u001b[0m\u001b[0m\n\u001b[0;32m     98\u001b[0m             \u001b[0mX_mean\u001b[0m \u001b[1;33m=\u001b[0m \u001b[0mnp\u001b[0m\u001b[1;33m.\u001b[0m\u001b[0maverage\u001b[0m\u001b[1;33m(\u001b[0m\u001b[0mX\u001b[0m\u001b[1;33m,\u001b[0m \u001b[0maxis\u001b[0m\u001b[1;33m=\u001b[0m\u001b[1;36m0\u001b[0m\u001b[1;33m,\u001b[0m \u001b[0mweights\u001b[0m\u001b[1;33m=\u001b[0m\u001b[0msample_weight\u001b[0m\u001b[1;33m)\u001b[0m\u001b[1;33m\u001b[0m\u001b[0m\n\u001b[1;32m---> 99\u001b[1;33m             \u001b[0mX\u001b[0m \u001b[1;33m-=\u001b[0m \u001b[0mX_mean\u001b[0m\u001b[1;33m\u001b[0m\u001b[0m\n\u001b[0m\u001b[0;32m    100\u001b[0m             \u001b[1;32mif\u001b[0m \u001b[0mnormalize\u001b[0m\u001b[1;33m:\u001b[0m\u001b[1;33m\u001b[0m\u001b[0m\n\u001b[0;32m    101\u001b[0m                 \u001b[1;31m# XXX: currently scaled to variance=n_samples\u001b[0m\u001b[1;33m\u001b[0m\u001b[1;33m\u001b[0m\u001b[0m\n",
      "\u001b[1;31mKeyboardInterrupt\u001b[0m: "
     ]
    }
   ],
   "source": [
    "p = 'n';\n",
    "cross_validation( hin_dict[ p], eng_dict[ p], filtered_dn_link_list, p);"
   ]
  },
  {
   "cell_type": "code",
   "execution_count": 76,
   "metadata": {
    "collapsed": false
   },
   "outputs": [
    {
     "name": "stdout",
     "output_type": "stream",
     "text": [
      "1053920_n\n"
     ]
    }
   ],
   "source": [
    "for key in eng_m:\n",
    "    print( key);\n",
    "    break;"
   ]
  },
  {
   "cell_type": "code",
   "execution_count": null,
   "metadata": {
    "collapsed": true
   },
   "outputs": [],
   "source": []
  }
 ],
 "metadata": {
  "kernelspec": {
   "display_name": "Python 3",
   "language": "python",
   "name": "python3"
  },
  "language_info": {
   "codemirror_mode": {
    "name": "ipython",
    "version": 3
   },
   "file_extension": ".py",
   "mimetype": "text/x-python",
   "name": "python",
   "nbconvert_exporter": "python",
   "pygments_lexer": "ipython3",
   "version": "3.5.1"
  }
 },
 "nbformat": 4,
 "nbformat_minor": 0
}
